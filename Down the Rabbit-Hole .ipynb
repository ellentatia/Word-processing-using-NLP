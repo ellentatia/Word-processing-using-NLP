{
 "cells": [
  {
   "cell_type": "markdown",
   "metadata": {},
   "source": [
    "<span style=\"generic-family:Arial; font-size:1.5em;color:black;\"> </p>**Word Frequency in the chapter 'Down the Rabbit-Hole' from the book 'Alice's Adventures in the Wonderland'.\n",
    "Text processing using NLP. "
   ]
  },
  {
   "cell_type": "markdown",
   "metadata": {},
   "source": [
    "<img src=\"https://comeniuscorner.moravianacademy.org/wp-content/uploads/2018/03/alice-in-wonderland-knowledge-quiz-header.png\" width='500' height='500'>"
   ]
  },
  {
   "cell_type": "markdown",
   "metadata": {},
   "source": [
    "<span style=\"generic-family:cursive; font-size:1.0em;color:red;\"> </p>\" For, you see, so many out-of-the-way things had happened lately, that Alice had begun to think that \n",
    "  very few things indeed were really impossible\"\n",
    "  "
   ]
  },
  {
   "cell_type": "markdown",
   "metadata": {},
   "source": [
    "1. Importing packages:"
   ]
  },
  {
   "cell_type": "code",
   "execution_count": 2,
   "metadata": {},
   "outputs": [],
   "source": [
    "# Import: requests, BeautifulSoup, nltk and tokenizer\n",
    "import requests\n",
    "from bs4 import BeautifulSoup\n",
    "import nltk\n",
    "from nltk.tokenize import RegexpTokenizer"
   ]
  },
  {
   "cell_type": "markdown",
   "metadata": {},
   "source": [
    "2. Request the text from the webpage http://www.literatureproject.com/alice/alice_1.htm "
   ]
  },
  {
   "cell_type": "code",
   "execution_count": 3,
   "metadata": {},
   "outputs": [
    {
     "name": "stdout",
     "output_type": "stream",
     "text": [
      "<!DOCTYPE HTML PUBLIC \"-//W3C//DTD HTML 4.0 Transitional//EN\">\n",
      "<HTML>\n",
      "<HEAD>\n",
      " \n",
      "  <TITLE>1 : CHAPTER I</TITLE>\n",
      "  <META NAME=\"GENERATOR\" CONTENT=\"Microsoft FrontPage 5.0\">\n",
      "<meta name=\"Microsoft Border\" content=\"tb\">\n",
      "</HEAD>\n",
      "\n",
      "<BODY><!--msnavigation--><table border=\"0\" cellpadding=\"0\" cellspacing=\"0\" wi\n"
     ]
    }
   ],
   "source": [
    "r = requests.get('http://www.literatureproject.com/alice/alice_1.htm')\n",
    "\n",
    "# Use 'utf-8' to set the correct text encoding \n",
    "r.encoding = 'utf-8'\n",
    "\n",
    "# Extract the HTML and check the fist 300 \n",
    "html = r.text\n",
    "print(html[:300])"
   ]
  },
  {
   "cell_type": "markdown",
   "metadata": {},
   "source": [
    "3. Making soup! Get the text from the HTML "
   ]
  },
  {
   "cell_type": "code",
   "execution_count": 28,
   "metadata": {},
   "outputs": [
    {
     "name": "stdout",
     "output_type": "stream",
     "text": [
      "\" Alice was beginning to get very tired of sitting by her sister\n",
      "on the bank, and of having nothing to do:  once or twice she had\n",
      "peeped into the book her sister was reading, but it had no\n",
      "pictures or conversations in it, `and what is the use of a book,'\n",
      "thought Alice `without pictures or conversation?'\n",
      "  \"\n"
     ]
    }
   ],
   "source": [
    "# Create a BeautifulSoup object from the HTML\n",
    "soup = BeautifulSoup(html)\n",
    "\n",
    "# Get the text out of the soup\n",
    "text = soup.get_text()\n",
    "print('\"',text[106:410],'\"')"
   ]
  },
  {
   "cell_type": "markdown",
   "metadata": {},
   "source": [
    "4. Tokenizing! Extract the words"
   ]
  },
  {
   "cell_type": "code",
   "execution_count": 7,
   "metadata": {},
   "outputs": [
    {
     "name": "stdout",
     "output_type": "stream",
     "text": [
      "['1', 'CHAPTER', 'I', 'Prev', 'Next', 'Contents', 'CHAPTER', 'I']\n"
     ]
    }
   ],
   "source": [
    "# Creating a tokenizer\n",
    "tokenizer = nltk.tokenize.RegexpTokenizer('\\w+')\n",
    "#tokenize a text into words\n",
    "# Tokenizing the text\n",
    "tokens = tokenizer.tokenize(text)\n",
    "print(tokens[:8])"
   ]
  },
  {
   "cell_type": "markdown",
   "metadata": {},
   "source": [
    "5. Make it easier to analyse the data by bringuing all the words to lowercase"
   ]
  },
  {
   "cell_type": "code",
   "execution_count": 8,
   "metadata": {},
   "outputs": [
    {
     "name": "stdout",
     "output_type": "stream",
     "text": [
      "['1', 'chapter', 'i', 'prev', 'next', 'contents', 'chapter', 'i']\n"
     ]
    }
   ],
   "source": [
    "# A new list to hold the lowercased words\n",
    "words = []\n",
    "\n",
    "# Looping through the tokens and make them lower case\n",
    "for word in tokens:\n",
    "    \n",
    "    words.append(word.lower())\n",
    "    \n",
    "print(words[:8])"
   ]
  },
  {
   "cell_type": "markdown",
   "metadata": {},
   "source": [
    "6. Finding the not interesting words. Loading stop words:"
   ]
  },
  {
   "cell_type": "code",
   "execution_count": 10,
   "metadata": {},
   "outputs": [
    {
     "name": "stdout",
     "output_type": "stream",
     "text": [
      "['i', 'me', 'my', 'myself', 'we', 'our', 'ours', 'ourselves']\n"
     ]
    }
   ],
   "source": [
    "from nltk.corpus import stopwords\n",
    "sw = stopwords.words('english')\n",
    "print(sw[:8])\n",
    "\n",
    "# I had to first use nltk.download('stopwords') but now it is downloaded and no need to use it anymore."
   ]
  },
  {
   "cell_type": "markdown",
   "metadata": {},
   "source": [
    "7. Remove stop words"
   ]
  },
  {
   "cell_type": "code",
   "execution_count": 11,
   "metadata": {},
   "outputs": [
    {
     "name": "stdout",
     "output_type": "stream",
     "text": [
      "['1', 'chapter', 'prev', 'next', 'contents']\n"
     ]
    }
   ],
   "source": [
    "# A new list to hold  the No Stop words\n",
    "words_ns = []\n",
    "\n",
    "# Appending to words_ns all words that are in words but not in sw\n",
    "for word in words:\n",
    "    if word not in sw:\n",
    "        words_ns.append(word)\n",
    "    \n",
    "print(words_ns[:5])"
   ]
  },
  {
   "cell_type": "markdown",
   "metadata": {},
   "source": [
    "8. Lets see the answer"
   ]
  },
  {
   "cell_type": "code",
   "execution_count": 15,
   "metadata": {},
   "outputs": [
    {
     "name": "stdout",
     "output_type": "stream",
     "text": [
      "<FreqDist with 530 samples and 1016 outcomes>\n"
     ]
    },
    {
     "data": {
      "image/png": "[encoded data removed]",
      "text/plain": [
       "<Figure size 432x288 with 1 Axes>"
      ]
     },
     "metadata": {
      "needs_background": "light"
     },
     "output_type": "display_data"
    }
   ],
   "source": [
    "# This command display figures inline\n",
    "%matplotlib inline\n",
    "\n",
    "# Creating the word frequency distribution\n",
    "freqdist = nltk.FreqDist(words_ns)\n",
    "print(freqdist)\n",
    "\n",
    "freqdist.plot(25)"
   ]
  },
  {
   "cell_type": "markdown",
   "metadata": {},
   "source": [
    "9. Finally, the most commun word"
   ]
  },
  {
   "cell_type": "code",
   "execution_count": 17,
   "metadata": {},
   "outputs": [
    {
     "name": "stdout",
     "output_type": "stream",
     "text": [
      "[('alice', 28), ('little', 15), ('way', 13), ('think', 11), ('like', 11), ('see', 10), ('rabbit', 9), ('time', 9), ('one', 9), ('thought', 8), ('could', 8), ('said', 8), ('get', 7), ('nothing', 7), ('well', 7), ('would', 7), ('went', 7), ('found', 7), ('eat', 7), ('door', 7), ('use', 6), ('much', 6), ('say', 6), ('either', 6), ('wonder', 6)]\n",
      "!!!!!!!\n",
      "[('alice', 28)]\n"
     ]
    }
   ],
   "source": [
    "print(freqdist.most_common(25))\n",
    "print('!!!!!!!')\n",
    "print(freqdist.most_common(1))"
   ]
  },
  {
   "cell_type": "markdown",
   "metadata": {},
   "source": [
    "I wonder what the result would be if I could have access to the hole Book. In Germany the free access to the Book is not possible."
   ]
  },
  {
   "cell_type": "code",
   "execution_count": null,
   "metadata": {},
   "outputs": [],
   "source": []
  }
 ],
 "metadata": {
  "kernelspec": {
   "display_name": "Python 3",
   "language": "python",
   "name": "python3"
  },
  "language_info": {
   "codemirror_mode": {
    "name": "ipython",
    "version": 3
   },
   "file_extension": ".py",
   "mimetype": "text/x-python",
   "name": "python",
   "nbconvert_exporter": "python",
   "pygments_lexer": "ipython3",
   "version": "3.7.1"
  }
 },
 "nbformat": 4,
 "nbformat_minor": 2
}
